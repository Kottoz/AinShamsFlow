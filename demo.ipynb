{
 "cells": [
  {
   "cell_type": "markdown",
   "metadata": {},
   "source": [
    "# AinShamsFlow Demo\n",
    "\n",
    "Select a dataset and a model type from below"
   ]
  },
  {
   "cell_type": "code",
   "execution_count": 11,
   "metadata": {},
   "outputs": [],
   "source": [
    "# Dataset\n",
    "ds_name = 'mnist_784'\n",
    "# ds_name = 'cifar_10'\n",
    "\n",
    "# Model\n",
    "model_type = 'DNN'\n",
    "# model_type = 'CNN'"
   ]
  },
  {
   "cell_type": "code",
   "execution_count": 12,
   "metadata": {
    "pycharm": {
     "name": "#%%\n"
    }
   },
   "outputs": [],
   "source": [
    "# input_image_shape: (img_shape)\n",
    "if ds_name == 'mnist_784':\n",
    "    if model_type == 'DNN':\n",
    "        img_shape = (784,)\n",
    "    else: # if model_type == 'CNN'\n",
    "        img_shape = (28, 28, 1)\n",
    "else: # if ds_name == 'cifar_10'\n",
    "    if model_type == 'DNN':\n",
    "        img_shape = (3072,)\n",
    "    else: # if model_type == 'CNN'\n",
    "        img_shape = (32, 32, 3)\n",
    "        \n",
    "# dataset split: (ds_split)\n",
    "if ds_name == 'mnist_784':\n",
    "    ds_split = 60000\n",
    "else: # if ds_name == 'cifar_10'\n",
    "    ds_split = 50000"
   ]
  },
  {
   "cell_type": "markdown",
   "metadata": {
    "pycharm": {
     "name": "#%% md\n"
    }
   },
   "source": [
    "## Imports"
   ]
  },
  {
   "cell_type": "code",
   "execution_count": 13,
   "metadata": {},
   "outputs": [],
   "source": [
    "import ainshamsflow as asf\n",
    "import numpy as np\n",
    "import matplotlib.pyplot as plt\n",
    "from sklearn.datasets import fetch_openml"
   ]
  },
  {
   "cell_type": "markdown",
   "metadata": {},
   "source": [
    "## Fetch The Data"
   ]
  },
  {
   "cell_type": "code",
   "execution_count": 14,
   "metadata": {},
   "outputs": [
    {
     "data": {
      "text/plain": "dict_keys(['data', 'target', 'frame', 'categories', 'feature_names', 'target_names', 'DESCR', 'details', 'url'])"
     },
     "execution_count": 14,
     "metadata": {},
     "output_type": "execute_result"
    }
   ],
   "source": [
    "ds = fetch_openml(ds_name, version=1)\n",
    "ds.keys()"
   ]
  },
  {
   "cell_type": "code",
   "execution_count": 15,
   "metadata": {},
   "outputs": [
    {
     "name": "stdout",
     "output_type": "stream",
     "text": [
      "X.shape:       (70000, 784) \t y.shape:       (70000,)\n",
      "X_train.shape: (60000, 784) \t y_train.shape: (60000,)\n",
      "X_test.shape:  (10000, 784) \t y_test.shape:  (10000,)\n"
     ]
    }
   ],
   "source": [
    "X, y = ds[\"data\"], ds[\"target\"]\n",
    "print('X.shape:      ', X.shape, '\\t y.shape:      ', y.shape)\n",
    "\n",
    "X_train, X_test = X[:ds_split] / 255        , X[ds_split:] / 255\n",
    "y_train, y_test = y[:ds_split].astype('int'), y[ds_split:].astype('int')\n",
    "\n",
    "if model_type == 'CNN':\n",
    "    if ds_name == 'mnist_784':\n",
    "        X_train = X_train.reshape(-1, *img_shape)\n",
    "        X_test  = X_test.reshape(-1, *img_shape)\n",
    "    else: # if ds_type == 'cifar_10'\n",
    "        X_train = np.transpose(np.reshape(X_train,(-1, 3, 32,32)), (0, 2, 3, 1))\n",
    "        X_test  = np.transpose(np.reshape(X_test,(-1, 3, 32,32)), (0, 2, 3, 1))\n",
    "\n",
    "print('X_train.shape:', X_train.shape, '\\t y_train.shape:', y_train.shape)\n",
    "print('X_test.shape: ', X_test.shape,  '\\t y_test.shape: ', y_test.shape )"
   ]
  },
  {
   "cell_type": "markdown",
   "metadata": {},
   "source": [
    "## Visualise the Data"
   ]
  },
  {
   "cell_type": "code",
   "execution_count": 16,
   "metadata": {
    "pycharm": {
     "name": "#%%\n"
    }
   },
   "outputs": [],
   "source": [
    "def show_image_idx(img_idx):\n",
    "    show_image(X_train[img_idx], y_train[img_idx])\n",
    "\n",
    "def show_image(x_i, y_i=None):\n",
    "    if ds_name == 'mnist_784':\n",
    "        x_i = x_i.reshape((28, 28))\n",
    "        plt.imshow(x_i, cmap=\"binary\")\n",
    "    else: #if ds_name == 'cifar_10'\n",
    "        if model_type == 'DNN':\n",
    "            x_i = np.transpose(np.reshape(x_i,(3, 32,32)), (1, 2, 0))\n",
    "        plt.imshow(x_i)\n",
    "\n",
    "    plt.axis(\"off\")\n",
    "    plt.show()\n",
    "\n",
    "    if y_i is not None:\n",
    "        if ds_name == 'mnist_784':\n",
    "            print('This number is:',y_i)\n",
    "        else:  #if ds_name == 'cifar_10'\n",
    "            class_name = ['Airplane', 'Automobile', 'Bird', 'Cat', 'Deer', 'Dog', 'Frog', 'Horse', 'Ship', 'Truck']\n",
    "            print(class_name[y_i])"
   ]
  },
  {
   "cell_type": "code",
   "execution_count": 17,
   "metadata": {},
   "outputs": [
    {
     "data": {
      "text/plain": "<Figure size 432x288 with 1 Axes>",
      "image/png": "[encoded data removed]"
     },
     "metadata": {
      "needs_background": "light"
     },
     "output_type": "display_data"
    },
    {
     "name": "stdout",
     "output_type": "stream",
     "text": [
      "This number is: 5\n",
      "This number is: 0\n",
      "This number is: 4\n",
      "This number is: 1\n",
      "This number is: 9\n"
     ]
    },
    {
     "data": {
      "text/plain": "<Figure size 432x288 with 1 Axes>",
      "image/png": "[encoded data removed]"
     },
     "metadata": {
      "needs_background": "light"
     },
     "output_type": "display_data"
    },
    {
     "data": {
      "text/plain": "<Figure size 432x288 with 1 Axes>",
      "image/png": "[encoded data removed]"
     },
     "metadata": {
      "needs_background": "light"
     },
     "output_type": "display_data"
    },
    {
     "data": {
      "text/plain": "<Figure size 432x288 with 1 Axes>",
      "image/png": "[encoded data removed]"
     },
     "metadata": {
      "needs_background": "light"
     },
     "output_type": "display_data"
    },
    {
     "data": {
      "text/plain": "<Figure size 432x288 with 1 Axes>",
      "image/png": "[encoded data removed]"
     },
     "metadata": {
      "needs_background": "light"
     },
     "output_type": "display_data"
    }
   ],
   "source": [
    "for idx in range(5):\n",
    "    show_image_idx(idx)"
   ]
  },
  {
   "cell_type": "markdown",
   "metadata": {},
   "source": [
    "## Create a Model"
   ]
  },
  {
   "cell_type": "code",
   "execution_count": 18,
   "metadata": {},
   "outputs": [
    {
     "name": "stdout",
     "output_type": "stream",
     "text": [
      "\n",
      "Sequential Model: DNN_model\n",
      "+----------------------+---------------+-----------------------+-----------------------+--------------------------------+\n",
      "| Layer Type:          | num_of_params |           input_shape |          output_shape | layer_name                     |\n",
      "+----------------------+---------------+-----------------------+-----------------------+--------------------------------+\n",
      "| Dense Layer:         |        392500 |           (None, 784) |           (None, 500) | None                           |\n",
      "| Dropout Layer:       |             0 |           (None, 500) |           (None, 500) | None                           |\n",
      "| Dense Layer:         |        150300 |           (None, 500) |           (None, 300) | None                           |\n",
      "| Dropout Layer:       |             0 |           (None, 300) |           (None, 300) | None                           |\n",
      "| Dense Layer:         |          3010 |           (None, 300) |           (None,  10) | None                           |\n",
      "+----------------------+---------------+-----------------------+-----------------------+--------------------------------+\n",
      "| Total Params: 545810                                                                                                  |\n",
      "| Trainable Params: 545810                                                                                              |\n",
      "| Non-Trainable Params: 0                                                                                               |\n",
      "+----------------------+---------------+-----------------------+-----------------------+--------------------------------+\n",
      "\n"
     ]
    }
   ],
   "source": [
    "if model_type == 'DNN':\n",
    "    model = asf.models.Sequential([\n",
    "        asf.layers.Dense(500, activation='relu'),\n",
    "        asf.layers.Dropout(0.3),\n",
    "        asf.layers.Dense(300, activation='relu'),\n",
    "        asf.layers.Dropout(0.3),\n",
    "        asf.layers.Dense( 10, activation='softmax')   \n",
    "    ], input_shape=img_shape, name='DNN_model')\n",
    "    \n",
    "else: # if model_type == 'CNN'\n",
    "    model = asf.models.Sequential([\n",
    "        asf.layers.Conv2D( 8, kernel_size=5, padding='same', activation='relu'),\n",
    "        asf.layers.Pool2D(2, mode='max'),\n",
    "        asf.layers.Conv2D(16, kernel_size=3, padding='same', activation='relu'),\n",
    "        asf.layers.Pool2D(2, mode='max'),\n",
    "        asf.layers.Conv2D(32, kernel_size=3, padding='same', activation='relu'),\n",
    "        asf.layers.Pool2D(2, mode='max'),\n",
    "        asf.layers.Flatten(),\n",
    "        asf.layers.Dense(100, activation='relu'),\n",
    "        asf.layers.Dense( 10, activation='softmax')\n",
    "    ], input_shape=img_shape, name='CNN_model')\n",
    "    \n",
    "model.print_summary()"
   ]
  },
  {
   "cell_type": "code",
   "execution_count": 19,
   "metadata": {},
   "outputs": [],
   "source": [
    "model.compile(\n",
    "    optimizer = asf.optimizers.Adam(lr=0.001),\n",
    "    loss      = asf.losses.SparseCategoricalCrossentropy(),\n",
    "#     metrics   = [asf.metrics.Accuracy(), asf.metrics.F1Score()]\n",
    ")"
   ]
  },
  {
   "cell_type": "markdown",
   "metadata": {
    "pycharm": {
     "name": "#%% md\n"
    }
   },
   "source": [
    "## Train the Model"
   ]
  },
  {
   "cell_type": "code",
   "execution_count": 2,
   "metadata": {
    "pycharm": {
     "name": "#%%\n"
    }
   },
   "outputs": [
    {
     "ename": "NameError",
     "evalue": "name 'model' is not defined",
     "output_type": "error",
     "traceback": [
      "\u001B[1;31m---------------------------------------------------------------------------\u001B[0m",
      "\u001B[1;31mNameError\u001B[0m                                 Traceback (most recent call last)",
      "\u001B[1;32m<ipython-input-2-50ca7d0780b4>\u001B[0m in \u001B[0;36m<module>\u001B[1;34m\u001B[0m\n\u001B[0;32m      1\u001B[0m \u001B[1;31m# pydev_debug_cell\u001B[0m\u001B[1;33m\u001B[0m\u001B[1;33m\u001B[0m\u001B[1;33m\u001B[0m\u001B[0m\n\u001B[1;32m----> 2\u001B[1;33m history = model.fit(\n\u001B[0m\u001B[0;32m      3\u001B[0m     \u001B[0mX_train\u001B[0m\u001B[1;33m,\u001B[0m \u001B[0my_train\u001B[0m\u001B[1;33m,\u001B[0m\u001B[1;33m\u001B[0m\u001B[1;33m\u001B[0m\u001B[0m\n\u001B[0;32m      4\u001B[0m     \u001B[0mepochs\u001B[0m \u001B[1;33m=\u001B[0m \u001B[1;36m100\u001B[0m\u001B[1;33m,\u001B[0m\u001B[1;33m\u001B[0m\u001B[1;33m\u001B[0m\u001B[0m\n\u001B[0;32m      5\u001B[0m     \u001B[0mbatch_size\u001B[0m \u001B[1;33m=\u001B[0m \u001B[1;36m64\u001B[0m\u001B[1;33m\u001B[0m\u001B[1;33m\u001B[0m\u001B[0m\n",
      "\u001B[1;31mNameError\u001B[0m: name 'model' is not defined"
     ]
    }
   ],
   "source": [
    "history = model.fit(\n",
    "    X_train, y_train,\n",
    "    epochs = 100,\n",
    "    batch_size = 64\n",
    ")"
   ]
  },
  {
   "cell_type": "code",
   "execution_count": null,
   "metadata": {},
   "outputs": [],
   "source": [
    "history.show()"
   ]
  },
  {
   "cell_type": "markdown",
   "metadata": {
    "pycharm": {
     "name": "#%% md\n"
    }
   },
   "source": [
    "## Evaluate the Model"
   ]
  },
  {
   "cell_type": "code",
   "execution_count": null,
   "metadata": {},
   "outputs": [],
   "source": [
    "model.evaluate(X_test, y_test)"
   ]
  }
 ],
 "metadata": {
  "kernelspec": {
   "display_name": "Python 3",
   "language": "python",
   "name": "python3"
  },
  "language_info": {
   "codemirror_mode": {
    "name": "ipython",
    "version": 3
   },
   "file_extension": ".py",
   "mimetype": "text/x-python",
   "name": "python",
   "nbconvert_exporter": "python",
   "pygments_lexer": "ipython3",
   "version": "3.8.4rc1"
  }
 },
 "nbformat": 4,
 "nbformat_minor": 4
}